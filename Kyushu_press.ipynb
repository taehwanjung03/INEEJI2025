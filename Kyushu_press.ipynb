{
 "cells": [
  {
   "cell_type": "code",
   "execution_count": 1,
   "id": "5084781a-6dc3-48f8-b38c-1165c8be7f9f",
   "metadata": {},
   "outputs": [],
   "source": [
    "# Import libraries\n",
    "import pandas as pd\n",
    "import numpy as np\n",
    "import matplotlib.pyplot as plt\n",
    "import seaborn as sns\n",
    "import math\n",
    "import warnings\n",
    "from sklearn.model_selection import train_test_split\n",
    "from sklearn.linear_model import LinearRegression\n",
    "from sklearn.ensemble import RandomForestRegressor\n",
    "from sklearn.metrics import mean_squared_error, r2_score, mean_absolute_error\n",
    "from xgboost import XGBRegressor\n",
    "from sklearn.inspection import partial_dependence\n",
    "\n",
    "# Suppress warnings\n",
    "with warnings.catch_warnings():\n",
    "    warnings.simplefilter(\"ignore\")\n",
    "    import shap\n",
    "\n",
    "# Set font before plotting\n",
    "plt.rcParams['font.family'] = 'Malgun Gothic'\n",
    "plt.rcParams['axes.unicode_minus'] = False"
   ]
  },
  {
   "cell_type": "code",
   "execution_count": 2,
   "id": "7c9dea2d-454d-427d-a5b5-97f8b829e63c",
   "metadata": {},
   "outputs": [
    {
     "name": "stdout",
     "output_type": "stream",
     "text": [
      "Rows with more than half NaN dropped. Remaining rows: 2811\n"
     ]
    }
   ],
   "source": [
    "# Read the CSV\n",
    "df = pd.read_csv('C:/Users/User/Downloads/Kyushu Datasheets/data_with_press_and_weather.csv', low_memory=False)\n",
    "\n",
    "# Drop rows with excessive missing values\n",
    "missing_count = df.isnull().sum().sum()\n",
    "if missing_count > 0:\n",
    "    threshold = df.shape[1] // 2\n",
    "    df = df.dropna(thresh=threshold + 1)\n",
    "    print(f\"Rows with more than half NaN dropped. Remaining rows: {len(df)}\")\n",
    "else:\n",
    "    print(\"No missing values found.\")"
   ]
  },
  {
   "cell_type": "code",
   "execution_count": 3,
   "id": "d24cfb35-7f87-4cc1-a99d-c5200e5ef2c6",
   "metadata": {},
   "outputs": [],
   "source": [
    "# Clean and filter '강번'\n",
    "df['강번'] = pd.to_numeric(df['강번'], errors='coerce')\n",
    "df = df.dropna(subset=['강번'])\n",
    "df = df[df['강번'].between(9000, 500000000)]\n"
   ]
  },
  {
   "cell_type": "code",
   "execution_count": 4,
   "id": "7132ad5e-f100-4c3e-acfa-e03ad90bae4a",
   "metadata": {},
   "outputs": [
    {
     "data": {
      "text/plain": [
       "array([nan, '3', '2', '1', '2,3', '1,2', '2+', '1+', '1,3', '2+,3'],\n",
       "      dtype=object)"
      ]
     },
     "execution_count": 4,
     "metadata": {},
     "output_type": "execute_result"
    }
   ],
   "source": [
    "df['누름_record'].unique()"
   ]
  },
  {
   "cell_type": "code",
   "execution_count": 5,
   "id": "5d8a9e1f-d5bc-4573-899b-8b4a621883cb",
   "metadata": {},
   "outputs": [
    {
     "name": "stdout",
     "output_type": "stream",
     "text": [
      "[1021, 1095, 1163, 1167, 1197, 1200, 1214, 1328, 1367, 1399, 1435, 1438, 1520, 1547, 1562, 1563, 1579, 1640, 1719, 1782, 1829, 1830, 1855, 1869, 1936, 1937, 1942, 1957, 1958, 1961, 1985, 2012, 2013, 2020, 2022, 2023, 2025, 2101, 2134, 2151, 2154, 2158, 2161, 2169, 2170, 2176, 2190, 2200, 2210, 2235, 2237, 2245, 2250, 2251, 2253, 2257, 2267, 2269, 2270, 2314, 2320, 2321, 2335, 2338, 2339, 2348, 2370, 2394, 2396, 2398, 2431, 2444, 2446, 2455, 2475, 2479, 2535, 2556, 2566, 2587, 2588, 2596, 2619, 2637, 2638, 2683, 2687, 2694, 2709, 2714, 2722, 2728, 2740, 2741, 2744, 2746, 2765, 2779, 2817, 2822, 2827, 2842, 2848, 2867, 2872, 2877, 2892, 2907, 2908, 2909, 2936]\n"
     ]
    }
   ],
   "source": [
    "# Find rows where '누름_record' contains '1'\n",
    "contains_1 = df['누름_record'].astype(str).str.contains(r'\\b1\\b|^1$|^1[+,]', na=False)\n",
    "indexes_with_1 = df[contains_1].index\n",
    "indexes_list = indexes_with_1.tolist()\n",
    "print(indexes_list)"
   ]
  },
  {
   "cell_type": "code",
   "execution_count": 6,
   "id": "1cc46877-a706-453d-9c81-adfcd214005a",
   "metadata": {},
   "outputs": [
    {
     "name": "stdout",
     "output_type": "stream",
     "text": [
      "Index([1829, 2694, 2714, 2779, 2842], dtype='int64')\n"
     ]
    }
   ],
   "source": [
    "# Find rows where '누름_record' is exactly or contains '1+'\n",
    "contains_1_plus = df['누름_record'].astype(str).str.contains(r'\\b1\\+', na=False)\n",
    "indexes_with_1_plus = df[contains_1_plus].index\n",
    "print(indexes_with_1_plus)"
   ]
  },
  {
   "cell_type": "code",
   "execution_count": 7,
   "id": "a8bf4789-b1ff-4836-8ed7-e34fa039ed49",
   "metadata": {},
   "outputs": [
    {
     "name": "stdout",
     "output_type": "stream",
     "text": [
      "1829    2024-08-26\n",
      "2694    2024-12-01\n",
      "2714    2024-12-03\n",
      "2779    2024-12-10\n",
      "2842    2024-12-17\n",
      "Name: 날짜, dtype: object\n"
     ]
    }
   ],
   "source": [
    "# Filter rows where '누름_record' is exactly '1+'\n",
    "indexes_1_plus = df['누름_record'] == '1+'\n",
    "\n",
    "# Get the corresponding '날짜' values\n",
    "dates_for_1_plus = df.loc[indexes_1_plus, '날짜']\n",
    "print(dates_for_1_plus)"
   ]
  },
  {
   "cell_type": "code",
   "execution_count": 8,
   "id": "78b2cde6-0497-47cf-8818-a321e0e8c024",
   "metadata": {},
   "outputs": [
    {
     "name": "stdout",
     "output_type": "stream",
     "text": [
      "2024-05-05\n",
      "2024-05-14\n",
      "2024-05-22\n",
      "2024-05-22\n",
      "2024-05-26\n",
      "2024-05-26\n",
      "2024-05-28\n",
      "2024-06-11\n",
      "2024-06-17\n",
      "2024-06-22\n",
      "2024-06-27\n",
      "2024-06-27\n",
      "2024-07-09\n",
      "2024-07-13\n",
      "2024-07-15\n",
      "2024-07-15\n",
      "2024-07-17\n",
      "2024-07-27\n",
      "2024-08-08\n",
      "2024-08-20\n",
      "2024-08-26\n",
      "2024-08-26\n",
      "2024-09-01\n",
      "2024-09-02\n",
      "2024-09-09\n",
      "2024-09-09\n",
      "2024-09-10\n",
      "2024-09-12\n",
      "2024-09-12\n",
      "2024-09-12\n",
      "2024-09-15\n",
      "2024-09-17\n",
      "2024-09-17\n",
      "2024-09-18\n",
      "2024-09-18\n",
      "2024-09-18\n",
      "2024-09-18\n",
      "2024-09-26\n",
      "2024-09-29\n",
      "2024-10-02\n",
      "2024-10-03\n",
      "2024-10-03\n",
      "2024-10-04\n",
      "2024-10-05\n",
      "2024-10-05\n",
      "2024-10-05\n",
      "2024-10-06\n",
      "2024-10-07\n",
      "2024-10-08\n",
      "2024-10-12\n",
      "2024-10-12\n",
      "2024-10-12\n",
      "2024-10-13\n",
      "2024-10-13\n",
      "2024-10-13\n",
      "2024-10-13\n",
      "2024-10-14\n",
      "2024-10-14\n",
      "2024-10-14\n",
      "2024-10-20\n",
      "2024-10-20\n",
      "2024-10-20\n",
      "2024-10-21\n",
      "2024-10-22\n",
      "2024-10-22\n",
      "2024-10-23\n",
      "2024-10-27\n",
      "2024-10-30\n",
      "2024-10-30\n",
      "2024-10-30\n",
      "2024-11-03\n",
      "2024-11-04\n",
      "2024-11-04\n",
      "2024-11-05\n",
      "2024-11-08\n",
      "2024-11-08\n",
      "2024-11-16\n",
      "2024-11-17\n",
      "2024-11-18\n",
      "2024-11-21\n",
      "2024-11-21\n",
      "2024-11-22\n",
      "2024-11-24\n",
      "2024-11-25\n",
      "2024-11-25\n",
      "2024-11-30\n",
      "2024-11-30\n",
      "2024-12-01\n",
      "2024-12-02\n",
      "2024-12-03\n",
      "2024-12-04\n",
      "2024-12-05\n",
      "2024-12-06\n",
      "2024-12-06\n",
      "2024-12-07\n",
      "2024-12-07\n",
      "2024-12-08\n",
      "2024-12-10\n",
      "2024-12-15\n",
      "2024-12-15\n",
      "2024-12-15\n",
      "2024-12-17\n",
      "2024-12-18\n",
      "2024-12-20\n",
      "2024-12-21\n",
      "2024-12-21\n",
      "2024-12-22\n",
      "2024-12-24\n",
      "2024-12-24\n",
      "2024-12-24\n",
      "2024-12-28\n"
     ]
    }
   ],
   "source": [
    "dates_with_1 = df.loc[indexes_list, '날짜']\n",
    "for date in dates_with_1:\n",
    "    print(date)"
   ]
  },
  {
   "cell_type": "code",
   "execution_count": 9,
   "id": "47e7db43-2050-412e-b282-9b5c26769ef9",
   "metadata": {},
   "outputs": [
    {
     "data": {
      "text/plain": [
       "72"
      ]
     },
     "execution_count": 9,
     "metadata": {},
     "output_type": "execute_result"
    }
   ],
   "source": [
    "dates_with_1.unique()\n",
    "len(dates_with_1.unique())"
   ]
  },
  {
   "cell_type": "code",
   "execution_count": 10,
   "id": "74133560-2918-431b-8e73-3131b564aa29",
   "metadata": {},
   "outputs": [
    {
     "data": {
      "image/png": "[encoded data removed]",
      "text/plain": [
       "<Figure size 1400x600 with 1 Axes>"
      ]
     },
     "metadata": {},
     "output_type": "display_data"
    }
   ],
   "source": [
    "import matplotlib.pyplot as plt\n",
    "\n",
    "# Make sure 날짜 column is datetime type\n",
    "df['날짜'] = pd.to_datetime(df['날짜'], errors='coerce')\n",
    "\n",
    "# 1. Get index list where '1' appears\n",
    "contains_1 = df['누름_record'].astype(str).str.contains(r'\\b1\\b|^1$|^1[+,]', na=False)\n",
    "indexes_list = df[contains_1].index.tolist()\n",
    "\n",
    "# 2. Get index list where '1+' appears\n",
    "contains_1_plus = df['누름_record'].astype(str).str.contains(r'\\b1\\+', na=False)\n",
    "indexes_1_plus = df[contains_1_plus].index.tolist()\n",
    "\n",
    "# 3. Get corresponding 날짜 values\n",
    "dates_list = df.loc[indexes_list, '날짜']\n",
    "dates_1_plus = df.loc[indexes_1_plus, '날짜']\n",
    "\n",
    "# 4. Filter to desired date range\n",
    "plot_mask = (dates_list >= df.loc[950, '날짜']) & (dates_list <= df.loc[2900, '날짜'])\n",
    "filtered_dates_list = dates_list[plot_mask]\n",
    "\n",
    "# 5. Plot histogram with 날짜 on x-axis\n",
    "plt.figure(figsize=(14, 6))\n",
    "plt.hist(filtered_dates_list, bins=30, edgecolor='black', color='skyblue', label=\"'1' 포함\")\n",
    "\n",
    "# 6. Overlay vertical lines for '1+' dates\n",
    "for date in dates_1_plus:\n",
    "    if df.loc[950, '날짜'] <= date <= df.loc[2900, '날짜']:\n",
    "        plt.axvline(x=date, color='red', linestyle='--', alpha=0.7)\n",
    "\n",
    "# 7. Customize plot\n",
    "plt.title(\"Histogram of '날짜' where '누름_record' contains '1'\\nRed lines = '1+' occurrences\")\n",
    "plt.xlabel(\"날짜\")\n",
    "plt.ylabel(\"Frequency\")\n",
    "plt.legend()\n",
    "plt.grid(axis='y', linestyle='--', alpha=0.6)\n",
    "plt.tight_layout()\n",
    "plt.xticks(rotation=45)\n",
    "plt.show()\n"
   ]
  },
  {
   "cell_type": "code",
   "execution_count": null,
   "id": "54a8ef88-5070-4a38-aa8d-e4216bc8174a",
   "metadata": {},
   "outputs": [],
   "source": []
  }
 ],
 "metadata": {
  "kernelspec": {
   "display_name": "Python 3 (ipykernel)",
   "language": "python",
   "name": "python3"
  },
  "language_info": {
   "codemirror_mode": {
    "name": "ipython",
    "version": 3
   },
   "file_extension": ".py",
   "mimetype": "text/x-python",
   "name": "python",
   "nbconvert_exporter": "python",
   "pygments_lexer": "ipython3",
   "version": "3.13.5"
  }
 },
 "nbformat": 4,
 "nbformat_minor": 5
}
