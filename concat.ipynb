{
 "cells": [
  {
   "cell_type": "code",
   "execution_count": 23,
   "id": "2d7fd132-59c5-4b91-9e13-a8841a388222",
   "metadata": {},
   "outputs": [
    {
     "name": "stdout",
     "output_type": "stream",
     "text": [
      "Saved combined CSV to: C:/Users/User/Downloads/큐슈제강_조업데이터시트_2024년_1월_합본.csv\n",
      "Number of columns: 286\n"
     ]
    }
   ],
   "source": [
    "import pandas as pd\n",
    "import glob\n",
    "import os\n",
    "\n",
    "# Directory containing the CSV files\n",
    "csv_dir = 'C:/Users/User/Downloads/'  # adjust as needed\n",
    "\n",
    "# List of suffixes in the filenames\n",
    "suffixes = [\n",
    "    \"강번일람_헤더\", \"강번일람_분석\", \"강번일람_기별집계\",\n",
    "    \"강번일람_종합\", \"강번일람_휴식시간\", \"강번일람_주원료\",\n",
    "    \"강번일람_EAF부자재\", \"강번일람_CC부자재\"\n",
    "]\n",
    "\n",
    "# Base filename prefix\n",
    "base_prefix = \"큐슈제강_조업데이터시트_2024년_1월.xlsx - \"\n",
    "\n",
    "# Load and align all CSVs\n",
    "dfs = []\n",
    "for suffix in suffixes:\n",
    "    file_path = os.path.join(csv_dir, f\"{base_prefix}{suffix}.csv\")\n",
    "    df = pd.read_csv(file_path)\n",
    "    df.reset_index(drop=True, inplace=True)  # Align rows by index\n",
    "    dfs.append(df)\n",
    "\n",
    "# Concatenate horizontally (column-wise)\n",
    "combined_df = pd.concat(dfs, axis=1)\n",
    "\n",
    "# Save the result\n",
    "output_path = os.path.join(csv_dir, \"큐슈제강_조업데이터시트_2024년_1월_합본.csv\")\n",
    "combined_df.to_csv(output_path, index=False, encoding='utf-8-sig')\n",
    "\n",
    "print(f\"Saved combined CSV to: {output_path}\")\n",
    "\n",
    "print(f\"Number of columns: {combined_df.shape[1]}\")"
   ]
  },
  {
   "cell_type": "code",
   "execution_count": 24,
   "id": "534bd12f-cda9-4fd7-9a23-df95c56f653a",
   "metadata": {},
   "outputs": [
    {
     "name": "stdout",
     "output_type": "stream",
     "text": [
      "✅ Merged CSV saved to: C:/Users/User/Downloads/큐슈제강_조업데이터시트_2024년_전체합본.csv\n"
     ]
    }
   ],
   "source": [
    "# Target months: 1 to 12, skipping May (5)\n",
    "months = [m for m in range(1, 13) if m != 5]\n",
    "\n",
    "# Filename pattern\n",
    "base_prefix = \"큐슈제강_조업데이터시트_2024년_{}월_합본.csv\"\n",
    "\n",
    "# Load all matching files\n",
    "monthly_dfs = []\n",
    "for month in months:\n",
    "    filename = base_prefix.format(month)\n",
    "    file_path = os.path.join(csv_dir, filename)\n",
    "    \n",
    "    if os.path.exists(file_path):\n",
    "        df = pd.read_csv(file_path)\n",
    "        monthly_dfs.append(df)\n",
    "    else:\n",
    "        print(f\"⚠️  File not found, skipping: {filename}\")\n",
    "\n",
    "# Concatenate all monthly DataFrames vertically (by rows)\n",
    "final_df = pd.concat(monthly_dfs, axis=0, ignore_index=True)\n",
    "\n",
    "# Save the merged CSV\n",
    "output_path = os.path.join(csv_dir, \"큐슈제강_조업데이터시트_2024년_전체합본.csv\")\n",
    "final_df.to_csv(output_path, index=False, encoding='utf-8-sig')\n",
    "\n",
    "print(f\"✅ Merged CSV saved to: {output_path}\")\n"
   ]
  },
  {
   "cell_type": "code",
   "execution_count": 30,
   "id": "ac6d0066-c090-4046-9928-06b910e23337",
   "metadata": {},
   "outputs": [
    {
     "name": "stdout",
     "output_type": "stream",
     "text": [
      "\n",
      "Discontinuity at index 977:\n",
      "     로개회수   diff\n",
      "976  5826    1.0\n",
      "977  6089  263.0\n",
      "978  6090    1.0\n"
     ]
    }
   ],
   "source": [
    "filename = \"큐슈제강_조업데이터시트_2024년_전체합본.csv\"\n",
    "file_path = os.path.join(csv_dir, filename)\n",
    "\n",
    "df = pd.read_csv(file_path, dtype={2: str})\n",
    "\n",
    "# Check if the column exists\n",
    "if \"로개회수\" not in df.columns:\n",
    "    raise ValueError(\"Column '로개회수' not found in the DataFrame.\")\n",
    "\n",
    "# Ensure it's numeric (in case it was loaded as string)\n",
    "df[\"로개회수\"] = pd.to_numeric(df[\"로개회수\"], errors='coerce')\n",
    "\n",
    "# Find discontinuities — where difference is not 1\n",
    "df[\"diff\"] = df[\"로개회수\"].diff()\n",
    "\n",
    "# Get rows where the difference is not 1 (excluding first row)\n",
    "discontinuities = df[(df[\"diff\"].notnull()) & (df[\"diff\"] != 1)]\n",
    "\n",
    "# Show discontinuities with context (previous and next values)\n",
    "for idx in discontinuities.index:\n",
    "    print(f\"\\nDiscontinuity at index {idx}:\")\n",
    "    print(df.loc[idx - 1:idx + 1, [\"로개회수\", \"diff\"]])\n",
    "\n",
    "# Optional: save to file for review\n",
    "discontinuities.to_csv(\"로개회수_불연속지점.csv\", index=False)"
   ]
  },
  {
   "cell_type": "code",
   "execution_count": null,
   "id": "f141dca6-d70f-4786-924b-8c383e683c20",
   "metadata": {},
   "outputs": [],
   "source": []
  }
 ],
 "metadata": {
  "kernelspec": {
   "display_name": "Python 3 (ipykernel)",
   "language": "python",
   "name": "python3"
  },
  "language_info": {
   "codemirror_mode": {
    "name": "ipython",
    "version": 3
   },
   "file_extension": ".py",
   "mimetype": "text/x-python",
   "name": "python",
   "nbconvert_exporter": "python",
   "pygments_lexer": "ipython3",
   "version": "3.13.5"
  }
 },
 "nbformat": 4,
 "nbformat_minor": 5
}
